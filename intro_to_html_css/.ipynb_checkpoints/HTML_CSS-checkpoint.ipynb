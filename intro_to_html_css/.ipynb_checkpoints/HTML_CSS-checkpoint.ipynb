{
 "cells": [
  {
   "cell_type": "markdown",
   "metadata": {},
   "source": [
    "# HTML\n",
    "\n",
    "### New Terms:\n",
    "* HTML - HyperText Markup Language, a set of tags we use to describe the structure of web pages.\n",
    "* CSS - Cascading Style Sheets, a language used to describe how an HTML element should look when displayed in a browser.\n",
    "\n",
    "### Further Reading:\n",
    "* [Introduction to HTML](https://developer.mozilla.org/en-US/docs/Web/Guide/HTML/Introduction)\n",
    "* [Getting Started with CSS](https://developer.mozilla.org/en-US/docs/Web/Guide/CSS/Getting_started)\n",
    "* [Class Selectors](https://developer.mozilla.org/en-US/docs/Web/CSS/Class_selectors)\n",
    "* [Handling Elements](https://developer.mozilla.org/en-US/docs/Web/HTML/Element/Heading_Elements)\n",
    "* [Treehouse Blog: I Don't Speak Your Language: Frontend vs. Backend](http://blog.teamtreehouse.com/i-dont-speak-your-language-frontend-vs-backend)"
   ]
  },
  {
   "cell_type": "code",
   "execution_count": null,
   "metadata": {},
   "outputs": [],
   "source": [
    "! python -m http.server"
   ]
  },
  {
   "cell_type": "markdown",
   "metadata": {},
   "source": [
    "* Classes within HTML tags allow you to specifically implememt certain CSS styles (e.g `.tag` in css file) to portions of a webpage.\n",
    "    * There are two tags in this example.\n",
    "* The numbers following the 'h' deem the size of the text in the tags. 1 is the largest, Six is the smallest.\n",
    "```html\n",
    "<h1 class=\"tag name\">Hello, I’m Edward Lucifitz.</h1>\n",
    "```\n",
    "\n",
    "\n",
    "* This piece of css is used when the cursor hovers over the specified item. The transform function in this case increases the size of the object by three times and has it rotate 360º\n",
    "```html\n",
    "header .profile-image:hover {\n",
    "  transform: scale(3) rotate(360deg);\n",
    "}\n",
    "```"
   ]
  },
  {
   "cell_type": "markdown",
   "metadata": {},
   "source": [
    "* `<!DOCTYPE html>` - A piece of code that tells the browser what kind of information it’s getting, so that it can display your web page properly.\n",
    "* `<html>` - All of your code must be between tags.\n",
    "* `<head`> - Hold all the important behind-the-scenes information about your web page, like the title of your web page, and a links to a CSS stylesheets.\n",
    "* `<title>` - Stuff between title tags doesn’t appear on the web page, but you’ll see it in search engine results and browser tabs.\n",
    "* `<body>` - Everything that displays in the browser -- header, navigation, images, content -- goes between the body tags."
   ]
  },
  {
   "cell_type": "markdown",
   "metadata": {},
   "source": [
    "## Head Tags\n",
    "* The title tag is what is diplayed on a browser tab.\n",
    "* The  ```<link rel=\"stylesheet\"```... tag points the browser to the css stylesheets.\n",
    "* This is where Javascript is placed as well.\n",
    "* The ```<link href=\"https://fonts.googleapis```... tag allows us to pull in different fonts for our webpage.\n",
    "```html\n",
    "<head>\n",
    "  <meta charset=\"utf-8\">\n",
    "  <title>Edwards's Profile</title>\n",
    "  <meta name=\"viewport\" content=\"width=device-width, initial-scale=1.0\">\n",
    "  <!--Points browser to the css stylesheets-->\n",
    "  <link rel=\"stylesheet\" href=\"styles.css\">\n",
    "  <link href=\"https://fonts.googleapis.com/css?family=Muli%7CRoboto:400,300,500,700,900\" rel=\"stylesheet\">\n",
    " </head>\n",
    " ```"
   ]
  },
  {
   "cell_type": "markdown",
   "metadata": {},
   "source": [
    "## Body Tags\n",
    "* Insides HTML5 body tags the convention is to use three main nested tags called header, main, foooter."
   ]
  },
  {
   "cell_type": "markdown",
   "metadata": {},
   "source": [
    "## Image Tags\n",
    "* An image tag is an example of a self closing tag.\n",
    "```html\n",
    "<img src=\"images/placeimg_640_480_any.jpg\" alt=\"MR. KITTY\" class=\"profile-image\">\n",
    "```\n",
    "* Placeholder Websites:\n",
    " * [Placeimg](https://placeimg.com/)\n",
    " * [Placehold](http://placehold.it/)\n",
    "\n",
    "* Image Tag Attributes (REQURIRES BOTH):\n",
    "    * alt - Short for alternative text, this attribute always goes on an <img> tag and should contain a short description of the image.\n",
    "    * src -Tells the browser where the image is located. You can link to an image from you website’s files, or from an outside URL.\n",
    "    \n",
    "* Further Reading:\n",
    "    * [HTML Attributes](http://www.w3schools.com/html/html_attributes.asp)"
   ]
  },
  {
   "cell_type": "markdown",
   "metadata": {},
   "source": [
    "## Paragraph Tags\n",
    "```html\n",
    "<p>I’m an aspiring web designer who loves everything about the web. \n",
    "   I've lived in lots of different places and have worked \n",
    "   in lots of different jobs. I’m excited to bring my life \n",
    "   experience to the process of building fantastic looking \n",
    "   websites.</p>\n",
    "<p>I’ve been a professional cook and gardener and am a life-long \n",
    "   learner who's always interested in expanding my skills.</p>\n",
    "```"
   ]
  },
  {
   "cell_type": "markdown",
   "metadata": {},
   "source": [
    "## Link Tags\n",
    "* Anything wrapped in <a> </a> is clickable, even images! Links can point to other pages, to other places on your website, or to links anywhere on the web.\n",
    "```html\n",
    "<p>Check out <a href=\"resume.html\">my resume</a></p>\n",
    "```\n",
    "* Here's how to create a link that sends the user back to the top of the page.\n",
    "```html\n",
    "<li><a href=\"#top\">TOP</a></li>\n",
    "```\n",
    "* Here are some media links:\n",
    "    * `Target=\"_blank\"` opens a new tab with href link\n",
    "```html\n",
    "<li><a href=\"http://twitter.com/treehouse\" target=\"_blank\" class=\"social twitter\">Twitter</a></li>\n",
    "<li><a href=\"https://www.linkedin.com\" class=\"social linkedin\">LinkedIn</a></li>\n",
    "<li><a href=\"https://github.com\" class=\"social github\">Github</a></li>\n",
    "```"
   ]
  },
  {
   "cell_type": "markdown",
   "metadata": {},
   "source": [
    "## List Tags\n",
    "* ul -Unordered list. For listing things that do not need to be in any specific order. Navigation menus are often created with unordered lists, and are styled with CSS to display horizontally.\n",
    "```html\n",
    "<ul class=\"skills\">\n",
    "    <li>HTML</li>\n",
    "    <li>CSS</li>\n",
    "    <li>JavaScript</li>\n",
    "    <li>Ruby</li>\n",
    "    <li>Rails</li>\n",
    "</ul>\n",
    "```\n",
    "* ol -Ordered list. A list that is automatically numbered.\n",
    "```html\n",
    "<ol class=\"skills\">\n",
    "    <li>HTML</li>\n",
    "    <li>CSS</li>\n",
    "    <li>JavaScript</li>\n",
    "    <li>Ruby</li>\n",
    "    <li>Rails</li>\n",
    "</ol>\n",
    "```"
   ]
  },
  {
   "cell_type": "markdown",
   "metadata": {},
   "source": [
    "# CSS\n",
    "\n",
    "Further Reading\n",
    "* [Hexidemical Color Picker](http://www.colorpicker.com/)\n",
    "* [Getting Started with CSS](https://developer.mozilla.org/en-US/docs/Web/Guide/CSS/Getting_started)\n",
    "* [https://css-tricks.com/almanac/properties/b/border/](https://css-tricks.com/almanac/properties/b/border/)\n",
    "* [https://css-tricks.com/almanac/](https://css-tricks.com/almanac/)\n",
    "* [https://developer.mozilla.org/en-US/docs/Web/CSS/Reference](https://developer.mozilla.org/en-US/docs/Web/CSS/Reference)\n",
    "* [Info on Margins and Padding](http://www.htmldog.com/guides/css/beginner/margins/)\n",
    "* [Anatomy of an HTML Document](https://developer.mozilla.org/en-US/docs/Learn/Getting_started_with_the_web/HTML_basics#Anatomy_of_an_HTML_document)\n",
    "* [Linking a Stylesheet](http://www.w3schools.com/css/css_howto.asp)\n"
   ]
  },
  {
   "cell_type": "markdown",
   "metadata": {},
   "source": [
    "## Stylizing Specific Elements with Classes\n",
    "* HTML\n",
    "```html\n",
    "<h2 class=\"card-title\">Background</h2>\n",
    "```\n",
    "* CSS\n",
    "    * All classes in CSS start with a dot (\"`.`\")\n",
    "```css\n",
    ".card-title {\n",
    "    text-align: center;\n",
    "    border: solid black 3px;\n",
    "    border-radius: 5px;\n",
    "    padding: 15px;\n",
    "    margin-top: 5px;\n",
    "}\n",
    "```"
   ]
  },
  {
   "cell_type": "markdown",
   "metadata": {},
   "source": [
    "## Difference Between Padding and Margin Values\n",
    "* Padding changes the pixel distance between an element and its border.\n",
    "* Margin changes the pixel distance between an elements border and neighboring elements."
   ]
  },
  {
   "cell_type": "code",
   "execution_count": null,
   "metadata": {
    "collapsed": true
   },
   "outputs": [],
   "source": []
  }
 ],
 "metadata": {
  "kernelspec": {
   "display_name": "Python 3",
   "language": "python",
   "name": "python3"
  },
  "language_info": {
   "codemirror_mode": {
    "name": "ipython",
    "version": 3
   },
   "file_extension": ".py",
   "mimetype": "text/x-python",
   "name": "python",
   "nbconvert_exporter": "python",
   "pygments_lexer": "ipython3",
   "version": "3.6.1"
  }
 },
 "nbformat": 4,
 "nbformat_minor": 2
}
