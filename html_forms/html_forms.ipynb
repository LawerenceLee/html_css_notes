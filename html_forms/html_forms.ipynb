{
 "cells": [
  {
   "cell_type": "markdown",
   "metadata": {},
   "source": [
    "# The Form Element\n",
    "HTML Elements\n",
    "* `<form>` - The form element wraps a section of the document that contains form controls. The action attribute specifies the web address of a program that processes the information submitted via the form. The method attribute specifies the HTTP method that the browser should use to submit the form, such as POST or GET. Forms cannot be nested inside one another.\n",
    "* `<input>` - The input element is used to create many different types of form controls. The type attribute specifies what kind of form control should be rendered, such as text, email, passwords, and more. The name attribute is submitted with form data so that server-side code can parse the information.\n",
    "* `<textarea>` - The textarea element accepts multiple lines of text from the user. Most browsers will render the textarea element with a widget to allow for resizing the editing area.\n",
    "* `<button>` - Just as the name implies, the button element will render a clickable button. The type attribute specifies whether the button should submit the form data, reset the form, or have no default behavior for use with JavaScript.\n",
    "* `<label>` - The label element helps to organize forms by assigning some helpful text to a form control. This text helps the user to understand what kind of data they should add to each form field.\n",
    "* `<fieldset>` - The fieldset element wraps multiple form elements into common groups. This can help organize a form and make it easier to understand for users.\n",
    "* `<legend>` - The legend element is similar to the label element, but instead of labeling a form control, it labels a fieldset. Adding a legend to a fieldset can provide some helpful context for users that are filling out a form.\n",
    "`<select>` - The select element renders a drop-down menu that contains selectable options. This type of form control is ideal for scenarios where the user must choose one option from a preset list of 5 or more choices.\n",
    "`<option>` - The option element represents one of the choices that a user can choose in a select menu. It should always be nested inside of a select element.\n",
    "`<optgroup>` - The optgroup element wraps one or more option elements and helps to create logical groups. The label attribute specifies the text that the optgroup should display above the nested options.\n",
    "\n",
    "Notes:\n",
    "* You cannot nest form tags inside of form tags.\n",
    "\n",
    "Resources\n",
    "* [MDN `<form>` Documentation](https://developer.mozilla.org/en-US/docs/Web/HTML/Element/form)\n",
    "* [MDN `<input>` Documentation](https://developer.mozilla.org/en-US/docs/Web/HTML/Element/input)\n",
    "* [Treehouse Blog post about the `<input>` element](http://blog.teamtreehouse.com/use-input-element)\n",
    "* [MDN `<textarea>` Documentation](https://developer.mozilla.org/en-US/docs/Web/HTML/Element/textarea)\n",
    "* [MDN `<button>` Documentation](https://developer.mozilla.org/en-US/docs/Web/HTML/Element/button)\n",
    "* [MDN `<label>` Documentation](https://developer.mozilla.org/en-US/docs/Web/HTML/Element/label)\n",
    "* [MDN `<fieldset>` Documentation](https://developer.mozilla.org/en-US/docs/Web/HTML/Element/fieldset)\n",
    "* [MDN `<legend>` Documentation](https://developer.mozilla.org/en-US/docs/Web/HTML/Element/legend)\n",
    "* [MDN `<select>` Documentation](https://developer.mozilla.org/en-US/docs/Web/HTML/Element/select)\n",
    "* [MDN `<option>` Documentation](https://developer.mozilla.org/en-US/docs/Web/HTML/Element/option)\n",
    "* [MDN `<optgroup>` Documentation](https://developer.mozilla.org/en-US/docs/Web/HTML/Element/optgroup)"
   ]
  },
  {
   "cell_type": "code",
   "execution_count": null,
   "metadata": {
    "collapsed": true
   },
   "outputs": [],
   "source": []
  }
 ],
 "metadata": {
  "kernelspec": {
   "display_name": "Python 3",
   "language": "python",
   "name": "python3"
  },
  "language_info": {
   "codemirror_mode": {
    "name": "ipython",
    "version": 3
   },
   "file_extension": ".py",
   "mimetype": "text/x-python",
   "name": "python",
   "nbconvert_exporter": "python",
   "pygments_lexer": "ipython3",
   "version": "3.6.3"
  }
 },
 "nbformat": 4,
 "nbformat_minor": 2
}
